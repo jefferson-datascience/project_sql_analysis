{
 "cells": [
  {
   "cell_type": "markdown",
   "id": "135c086f",
   "metadata": {},
   "source": [
    "## 2ª Rodada de Questões do CEO"
   ]
  },
  {
   "cell_type": "markdown",
   "id": "bf3f673c",
   "metadata": {},
   "source": [
    "### Bibliotecas"
   ]
  },
  {
   "cell_type": "code",
   "execution_count": 1,
   "id": "d0b354c6",
   "metadata": {
    "ExecuteTime": {
     "end_time": "2022-11-10T22:03:37.535813Z",
     "start_time": "2022-11-10T22:03:36.948221Z"
    }
   },
   "outputs": [],
   "source": [
    "from sqlalchemy import create_engine\n",
    "import pandas as pd"
   ]
  },
  {
   "cell_type": "markdown",
   "id": "2146fa0b",
   "metadata": {},
   "source": [
    "### Acessando o Banco de Dados"
   ]
  },
  {
   "cell_type": "code",
   "execution_count": 2,
   "id": "28c0d76b",
   "metadata": {
    "ExecuteTime": {
     "end_time": "2022-11-10T22:03:37.861568Z",
     "start_time": "2022-11-10T22:03:37.829364Z"
    }
   },
   "outputs": [],
   "source": [
    "# Conexão com o Banco\n",
    "engine = create_engine('sqlite:///db_olist.sqlite')\n",
    "\n",
    "# Criando a conexão com o Banco\n",
    "cursor = engine.connect()"
   ]
  },
  {
   "cell_type": "markdown",
   "id": "b4f68c99",
   "metadata": {},
   "source": [
    "**1.** Qual o número de clientes únicos do estado de Minas Gerais?"
   ]
  },
  {
   "cell_type": "code",
   "execution_count": 3,
   "id": "f1107e53",
   "metadata": {
    "ExecuteTime": {
     "end_time": "2022-11-10T22:03:42.790091Z",
     "start_time": "2022-11-10T22:03:42.734239Z"
    },
    "hide_input": false
   },
   "outputs": [
    {
     "data": {
      "text/html": [
       "<div>\n",
       "<style scoped>\n",
       "    .dataframe tbody tr th:only-of-type {\n",
       "        vertical-align: middle;\n",
       "    }\n",
       "\n",
       "    .dataframe tbody tr th {\n",
       "        vertical-align: top;\n",
       "    }\n",
       "\n",
       "    .dataframe thead th {\n",
       "        text-align: right;\n",
       "    }\n",
       "</style>\n",
       "<table border=\"1\" class=\"dataframe\">\n",
       "  <thead>\n",
       "    <tr style=\"text-align: right;\">\n",
       "      <th></th>\n",
       "      <th>quant_clientes_unicos</th>\n",
       "    </tr>\n",
       "  </thead>\n",
       "  <tbody>\n",
       "    <tr>\n",
       "      <th>0</th>\n",
       "      <td>11635</td>\n",
       "    </tr>\n",
       "  </tbody>\n",
       "</table>\n",
       "</div>"
      ],
      "text/plain": [
       "   quant_clientes_unicos\n",
       "0                  11635"
      ]
     },
     "execution_count": 3,
     "metadata": {},
     "output_type": "execute_result"
    }
   ],
   "source": [
    "query = \"\"\"\n",
    "    SELECT \n",
    "        COUNT(c.customer_unique_id) AS quant_clientes_unicos \n",
    "    FROM \n",
    "        customer c\n",
    "    WHERE\n",
    "        c.customer_state = 'MG'\n",
    "\"\"\"\n",
    "\n",
    "pd.read_sql(query, cursor)"
   ]
  },
  {
   "cell_type": "markdown",
   "id": "c86612eb",
   "metadata": {},
   "source": [
    "**2.** Qual a quantidade de cidades únicas dos vendedores do estado de Santa Catarina?"
   ]
  },
  {
   "cell_type": "code",
   "execution_count": 4,
   "id": "c4b131ec",
   "metadata": {
    "ExecuteTime": {
     "end_time": "2022-11-10T22:03:43.191057Z",
     "start_time": "2022-11-10T22:03:43.171071Z"
    },
    "hide_input": false
   },
   "outputs": [
    {
     "data": {
      "text/html": [
       "<div>\n",
       "<style scoped>\n",
       "    .dataframe tbody tr th:only-of-type {\n",
       "        vertical-align: middle;\n",
       "    }\n",
       "\n",
       "    .dataframe tbody tr th {\n",
       "        vertical-align: top;\n",
       "    }\n",
       "\n",
       "    .dataframe thead th {\n",
       "        text-align: right;\n",
       "    }\n",
       "</style>\n",
       "<table border=\"1\" class=\"dataframe\">\n",
       "  <thead>\n",
       "    <tr style=\"text-align: right;\">\n",
       "      <th></th>\n",
       "      <th>cidades_unicas_vendedores</th>\n",
       "    </tr>\n",
       "  </thead>\n",
       "  <tbody>\n",
       "    <tr>\n",
       "      <th>0</th>\n",
       "      <td>65</td>\n",
       "    </tr>\n",
       "  </tbody>\n",
       "</table>\n",
       "</div>"
      ],
      "text/plain": [
       "   cidades_unicas_vendedores\n",
       "0                         65"
      ]
     },
     "execution_count": 4,
     "metadata": {},
     "output_type": "execute_result"
    }
   ],
   "source": [
    "query = \"\"\"\n",
    "    SELECT\n",
    "        COUNT(DISTINCT s.seller_city) AS cidades_unicas_vendedores \n",
    "    FROM\n",
    "        sellers s \n",
    "    WHERE \n",
    "        s.seller_state = 'SC'\n",
    "\"\"\"\n",
    "\n",
    "pd.read_sql(query, cursor)"
   ]
  },
  {
   "cell_type": "markdown",
   "id": "688ba6bd",
   "metadata": {},
   "source": [
    "**3.** Qual a quantidade de cidades únicas de todos os vendedores da base?"
   ]
  },
  {
   "cell_type": "code",
   "execution_count": 5,
   "id": "75e58efb",
   "metadata": {
    "ExecuteTime": {
     "end_time": "2022-11-10T22:03:43.810359Z",
     "start_time": "2022-11-10T22:03:43.795401Z"
    },
    "hide_input": false
   },
   "outputs": [
    {
     "data": {
      "text/html": [
       "<div>\n",
       "<style scoped>\n",
       "    .dataframe tbody tr th:only-of-type {\n",
       "        vertical-align: middle;\n",
       "    }\n",
       "\n",
       "    .dataframe tbody tr th {\n",
       "        vertical-align: top;\n",
       "    }\n",
       "\n",
       "    .dataframe thead th {\n",
       "        text-align: right;\n",
       "    }\n",
       "</style>\n",
       "<table border=\"1\" class=\"dataframe\">\n",
       "  <thead>\n",
       "    <tr style=\"text-align: right;\">\n",
       "      <th></th>\n",
       "      <th>cidades_unicas_vendedores</th>\n",
       "    </tr>\n",
       "  </thead>\n",
       "  <tbody>\n",
       "    <tr>\n",
       "      <th>0</th>\n",
       "      <td>611</td>\n",
       "    </tr>\n",
       "  </tbody>\n",
       "</table>\n",
       "</div>"
      ],
      "text/plain": [
       "   cidades_unicas_vendedores\n",
       "0                        611"
      ]
     },
     "execution_count": 5,
     "metadata": {},
     "output_type": "execute_result"
    }
   ],
   "source": [
    "query = \"\"\"\n",
    "    SELECT \n",
    "        COUNT( DISTINCT s.seller_city ) AS cidades_unicas_vendedores \n",
    "    FROM \n",
    "        sellers s \n",
    "\"\"\"\n",
    "\n",
    "pd.read_sql(query, cursor)"
   ]
  },
  {
   "cell_type": "markdown",
   "id": "144d2750",
   "metadata": {},
   "source": [
    "**4.** Qual o número total de pedidos únicos acima de RS 3.500?"
   ]
  },
  {
   "cell_type": "code",
   "execution_count": 6,
   "id": "ce9b47e2",
   "metadata": {
    "ExecuteTime": {
     "end_time": "2022-11-10T22:03:44.149454Z",
     "start_time": "2022-11-10T22:03:44.095598Z"
    },
    "hide_input": false
   },
   "outputs": [
    {
     "data": {
      "text/html": [
       "<div>\n",
       "<style scoped>\n",
       "    .dataframe tbody tr th:only-of-type {\n",
       "        vertical-align: middle;\n",
       "    }\n",
       "\n",
       "    .dataframe tbody tr th {\n",
       "        vertical-align: top;\n",
       "    }\n",
       "\n",
       "    .dataframe thead th {\n",
       "        text-align: right;\n",
       "    }\n",
       "</style>\n",
       "<table border=\"1\" class=\"dataframe\">\n",
       "  <thead>\n",
       "    <tr style=\"text-align: right;\">\n",
       "      <th></th>\n",
       "      <th>pedidod_unicos</th>\n",
       "    </tr>\n",
       "  </thead>\n",
       "  <tbody>\n",
       "    <tr>\n",
       "      <th>0</th>\n",
       "      <td>18</td>\n",
       "    </tr>\n",
       "  </tbody>\n",
       "</table>\n",
       "</div>"
      ],
      "text/plain": [
       "   pedidod_unicos\n",
       "0              18"
      ]
     },
     "execution_count": 6,
     "metadata": {},
     "output_type": "execute_result"
    }
   ],
   "source": [
    "query = \"\"\"\n",
    "    SELECT \n",
    "        COUNT(DISTINCT oi.order_id) AS pedidod_unicos\n",
    "    FROM \n",
    "        order_items oi \n",
    "    WHERE\n",
    "        oi.price > 3500\n",
    "\"\"\"\n",
    "\n",
    "pd.read_sql(query, cursor)"
   ]
  },
  {
   "cell_type": "markdown",
   "id": "87c5662d",
   "metadata": {
    "ExecuteTime": {
     "end_time": "2022-11-09T00:41:19.340776Z",
     "start_time": "2022-11-09T00:41:19.330769Z"
    }
   },
   "source": [
    "**5.** Qual o valor médio do preço de todos os pedidos?"
   ]
  },
  {
   "cell_type": "code",
   "execution_count": 7,
   "id": "3aa5db11",
   "metadata": {
    "ExecuteTime": {
     "end_time": "2022-11-10T22:03:44.489846Z",
     "start_time": "2022-11-10T22:03:44.428708Z"
    },
    "hide_input": false
   },
   "outputs": [
    {
     "data": {
      "text/html": [
       "<div>\n",
       "<style scoped>\n",
       "    .dataframe tbody tr th:only-of-type {\n",
       "        vertical-align: middle;\n",
       "    }\n",
       "\n",
       "    .dataframe tbody tr th {\n",
       "        vertical-align: top;\n",
       "    }\n",
       "\n",
       "    .dataframe thead th {\n",
       "        text-align: right;\n",
       "    }\n",
       "</style>\n",
       "<table border=\"1\" class=\"dataframe\">\n",
       "  <thead>\n",
       "    <tr style=\"text-align: right;\">\n",
       "      <th></th>\n",
       "      <th>preco_medio</th>\n",
       "    </tr>\n",
       "  </thead>\n",
       "  <tbody>\n",
       "    <tr>\n",
       "      <th>0</th>\n",
       "      <td>120.653739</td>\n",
       "    </tr>\n",
       "  </tbody>\n",
       "</table>\n",
       "</div>"
      ],
      "text/plain": [
       "   preco_medio\n",
       "0   120.653739"
      ]
     },
     "execution_count": 7,
     "metadata": {},
     "output_type": "execute_result"
    }
   ],
   "source": [
    "query = \"\"\"\n",
    "    SELECT \n",
    "        AVG(oi.price) AS preco_medio \n",
    "    FROM\n",
    "        order_items oi\n",
    "    \"\"\"\n",
    "\n",
    "pd.read_sql(query, cursor)"
   ]
  },
  {
   "cell_type": "markdown",
   "id": "7e4cbfa2",
   "metadata": {},
   "source": [
    "**6.** Qual o maior valor de preço entre todos os pedidos?"
   ]
  },
  {
   "cell_type": "code",
   "execution_count": 8,
   "id": "355eadc6",
   "metadata": {
    "ExecuteTime": {
     "end_time": "2022-11-10T22:03:44.815613Z",
     "start_time": "2022-11-10T22:03:44.758764Z"
    },
    "hide_input": false
   },
   "outputs": [
    {
     "data": {
      "text/html": [
       "<div>\n",
       "<style scoped>\n",
       "    .dataframe tbody tr th:only-of-type {\n",
       "        vertical-align: middle;\n",
       "    }\n",
       "\n",
       "    .dataframe tbody tr th {\n",
       "        vertical-align: top;\n",
       "    }\n",
       "\n",
       "    .dataframe thead th {\n",
       "        text-align: right;\n",
       "    }\n",
       "</style>\n",
       "<table border=\"1\" class=\"dataframe\">\n",
       "  <thead>\n",
       "    <tr style=\"text-align: right;\">\n",
       "      <th></th>\n",
       "      <th>order_id</th>\n",
       "      <th>max_price</th>\n",
       "    </tr>\n",
       "  </thead>\n",
       "  <tbody>\n",
       "    <tr>\n",
       "      <th>0</th>\n",
       "      <td>0812eb902a67711a1cb742b3cdaa65ae</td>\n",
       "      <td>6735.0</td>\n",
       "    </tr>\n",
       "  </tbody>\n",
       "</table>\n",
       "</div>"
      ],
      "text/plain": [
       "                           order_id  max_price\n",
       "0  0812eb902a67711a1cb742b3cdaa65ae     6735.0"
      ]
     },
     "execution_count": 8,
     "metadata": {},
     "output_type": "execute_result"
    }
   ],
   "source": [
    "query = \"\"\"\n",
    "    SELECT \n",
    "        oi.order_id, \n",
    "        MAX(oi.price) AS max_price\n",
    "    FROM \n",
    "        order_items oi  \n",
    "    \"\"\"\n",
    "\n",
    "pd.read_sql(query, cursor)"
   ]
  },
  {
   "cell_type": "markdown",
   "id": "61c7a71f",
   "metadata": {},
   "source": [
    "**7.** Qual o menor valor de preço entre todos os pedidos?"
   ]
  },
  {
   "cell_type": "code",
   "execution_count": 9,
   "id": "72dd69b0",
   "metadata": {
    "ExecuteTime": {
     "end_time": "2022-11-10T22:03:45.078347Z",
     "start_time": "2022-11-10T22:03:45.017440Z"
    },
    "hide_input": false
   },
   "outputs": [
    {
     "data": {
      "text/html": [
       "<div>\n",
       "<style scoped>\n",
       "    .dataframe tbody tr th:only-of-type {\n",
       "        vertical-align: middle;\n",
       "    }\n",
       "\n",
       "    .dataframe tbody tr th {\n",
       "        vertical-align: top;\n",
       "    }\n",
       "\n",
       "    .dataframe thead th {\n",
       "        text-align: right;\n",
       "    }\n",
       "</style>\n",
       "<table border=\"1\" class=\"dataframe\">\n",
       "  <thead>\n",
       "    <tr style=\"text-align: right;\">\n",
       "      <th></th>\n",
       "      <th>order_id</th>\n",
       "      <th>min_price</th>\n",
       "    </tr>\n",
       "  </thead>\n",
       "  <tbody>\n",
       "    <tr>\n",
       "      <th>0</th>\n",
       "      <td>3ee6513ae7ea23bdfab5b9ab60bffcb5</td>\n",
       "      <td>0.85</td>\n",
       "    </tr>\n",
       "  </tbody>\n",
       "</table>\n",
       "</div>"
      ],
      "text/plain": [
       "                           order_id  min_price\n",
       "0  3ee6513ae7ea23bdfab5b9ab60bffcb5       0.85"
      ]
     },
     "execution_count": 9,
     "metadata": {},
     "output_type": "execute_result"
    }
   ],
   "source": [
    "query = \"\"\"\n",
    "    SELECT\n",
    "        oi.order_id, MIN(oi.price) AS min_price \n",
    "    FROM \n",
    "        order_items oi \n",
    "    \"\"\"\n",
    "\n",
    "pd.read_sql(query, cursor)"
   ]
  },
  {
   "cell_type": "markdown",
   "id": "ada1651e",
   "metadata": {},
   "source": [
    "**8.** Qual a quantidade de produtos distintos vendidos abaixo do preço de RS100.00?"
   ]
  },
  {
   "cell_type": "code",
   "execution_count": 10,
   "id": "2062306f",
   "metadata": {
    "ExecuteTime": {
     "end_time": "2022-11-10T22:03:45.494548Z",
     "start_time": "2022-11-10T22:03:45.386836Z"
    },
    "hide_input": false
   },
   "outputs": [
    {
     "data": {
      "text/html": [
       "<div>\n",
       "<style scoped>\n",
       "    .dataframe tbody tr th:only-of-type {\n",
       "        vertical-align: middle;\n",
       "    }\n",
       "\n",
       "    .dataframe tbody tr th {\n",
       "        vertical-align: top;\n",
       "    }\n",
       "\n",
       "    .dataframe thead th {\n",
       "        text-align: right;\n",
       "    }\n",
       "</style>\n",
       "<table border=\"1\" class=\"dataframe\">\n",
       "  <thead>\n",
       "    <tr style=\"text-align: right;\">\n",
       "      <th></th>\n",
       "      <th>quant_prod_unico</th>\n",
       "    </tr>\n",
       "  </thead>\n",
       "  <tbody>\n",
       "    <tr>\n",
       "      <th>0</th>\n",
       "      <td>20112</td>\n",
       "    </tr>\n",
       "  </tbody>\n",
       "</table>\n",
       "</div>"
      ],
      "text/plain": [
       "   quant_prod_unico\n",
       "0             20112"
      ]
     },
     "execution_count": 10,
     "metadata": {},
     "output_type": "execute_result"
    }
   ],
   "source": [
    "query = \"\"\"\n",
    "    SELECT \n",
    "        COUNT(DISTINCT oi.product_id) AS quant_prod_unico \n",
    "    FROM\n",
    "        order_items oi \n",
    "    WHERE \n",
    "        oi.price < 100 \n",
    "    \"\"\"\n",
    "\n",
    "pd.read_sql(query, cursor)"
   ]
  },
  {
   "cell_type": "markdown",
   "id": "bb0994b0",
   "metadata": {},
   "source": [
    "**9.** Qual a quantidade de vendedores distintos que receberam algum pedido antes do dia 23 de setembro de 2016?"
   ]
  },
  {
   "cell_type": "code",
   "execution_count": 11,
   "id": "cb24057b",
   "metadata": {
    "ExecuteTime": {
     "end_time": "2022-11-10T22:03:46.004416Z",
     "start_time": "2022-11-10T22:03:45.943348Z"
    },
    "hide_input": false
   },
   "outputs": [
    {
     "data": {
      "text/html": [
       "<div>\n",
       "<style scoped>\n",
       "    .dataframe tbody tr th:only-of-type {\n",
       "        vertical-align: middle;\n",
       "    }\n",
       "\n",
       "    .dataframe tbody tr th {\n",
       "        vertical-align: top;\n",
       "    }\n",
       "\n",
       "    .dataframe thead th {\n",
       "        text-align: right;\n",
       "    }\n",
       "</style>\n",
       "<table border=\"1\" class=\"dataframe\">\n",
       "  <thead>\n",
       "    <tr style=\"text-align: right;\">\n",
       "      <th></th>\n",
       "      <th>num_sellers</th>\n",
       "    </tr>\n",
       "  </thead>\n",
       "  <tbody>\n",
       "    <tr>\n",
       "      <th>0</th>\n",
       "      <td>2</td>\n",
       "    </tr>\n",
       "  </tbody>\n",
       "</table>\n",
       "</div>"
      ],
      "text/plain": [
       "   num_sellers\n",
       "0            2"
      ]
     },
     "execution_count": 11,
     "metadata": {},
     "output_type": "execute_result"
    }
   ],
   "source": [
    "query = \"\"\"\n",
    "    SELECT \n",
    "        COUNT(DISTINCT oi.seller_id) AS num_sellers\n",
    "    FROM \n",
    "        order_items oi \n",
    "    WHERE \n",
    "        oi.shipping_limit_date < '2016-09-23'\n",
    "    \"\"\"\n",
    "\n",
    "pd.read_sql(query, cursor)"
   ]
  },
  {
   "cell_type": "markdown",
   "id": "52f865d9",
   "metadata": {},
   "source": [
    "**10.** Quais os tipos de pagamentos existentes?"
   ]
  },
  {
   "cell_type": "code",
   "execution_count": 12,
   "id": "0e01c604",
   "metadata": {
    "ExecuteTime": {
     "end_time": "2022-11-10T22:03:46.810457Z",
     "start_time": "2022-11-10T22:03:46.754564Z"
    }
   },
   "outputs": [
    {
     "data": {
      "text/html": [
       "<div>\n",
       "<style scoped>\n",
       "    .dataframe tbody tr th:only-of-type {\n",
       "        vertical-align: middle;\n",
       "    }\n",
       "\n",
       "    .dataframe tbody tr th {\n",
       "        vertical-align: top;\n",
       "    }\n",
       "\n",
       "    .dataframe thead th {\n",
       "        text-align: right;\n",
       "    }\n",
       "</style>\n",
       "<table border=\"1\" class=\"dataframe\">\n",
       "  <thead>\n",
       "    <tr style=\"text-align: right;\">\n",
       "      <th></th>\n",
       "      <th>payment_unique_type</th>\n",
       "    </tr>\n",
       "  </thead>\n",
       "  <tbody>\n",
       "    <tr>\n",
       "      <th>0</th>\n",
       "      <td>credit_card</td>\n",
       "    </tr>\n",
       "    <tr>\n",
       "      <th>1</th>\n",
       "      <td>boleto</td>\n",
       "    </tr>\n",
       "    <tr>\n",
       "      <th>2</th>\n",
       "      <td>voucher</td>\n",
       "    </tr>\n",
       "    <tr>\n",
       "      <th>3</th>\n",
       "      <td>debit_card</td>\n",
       "    </tr>\n",
       "    <tr>\n",
       "      <th>4</th>\n",
       "      <td>not_defined</td>\n",
       "    </tr>\n",
       "  </tbody>\n",
       "</table>\n",
       "</div>"
      ],
      "text/plain": [
       "  payment_unique_type\n",
       "0         credit_card\n",
       "1              boleto\n",
       "2             voucher\n",
       "3          debit_card\n",
       "4         not_defined"
      ]
     },
     "execution_count": 12,
     "metadata": {},
     "output_type": "execute_result"
    }
   ],
   "source": [
    " query = \"\"\"\n",
    "    SELECT \n",
    "        DISTINCT op.payment_type AS payment_unique_type \n",
    "    FROM \n",
    "        order_payments op \n",
    "    \"\"\"\n",
    "\n",
    "pd.read_sql(query, cursor)"
   ]
  },
  {
   "cell_type": "markdown",
   "id": "8f8f9719",
   "metadata": {},
   "source": [
    "**11.** Qual o maior número de parcelas realizado?"
   ]
  },
  {
   "cell_type": "code",
   "execution_count": 13,
   "id": "a54023cc",
   "metadata": {
    "ExecuteTime": {
     "end_time": "2022-11-10T22:03:47.352004Z",
     "start_time": "2022-11-10T22:03:47.309082Z"
    }
   },
   "outputs": [
    {
     "data": {
      "text/html": [
       "<div>\n",
       "<style scoped>\n",
       "    .dataframe tbody tr th:only-of-type {\n",
       "        vertical-align: middle;\n",
       "    }\n",
       "\n",
       "    .dataframe tbody tr th {\n",
       "        vertical-align: top;\n",
       "    }\n",
       "\n",
       "    .dataframe thead th {\n",
       "        text-align: right;\n",
       "    }\n",
       "</style>\n",
       "<table border=\"1\" class=\"dataframe\">\n",
       "  <thead>\n",
       "    <tr style=\"text-align: right;\">\n",
       "      <th></th>\n",
       "      <th>max_installments</th>\n",
       "    </tr>\n",
       "  </thead>\n",
       "  <tbody>\n",
       "    <tr>\n",
       "      <th>0</th>\n",
       "      <td>24</td>\n",
       "    </tr>\n",
       "  </tbody>\n",
       "</table>\n",
       "</div>"
      ],
      "text/plain": [
       "   max_installments\n",
       "0                24"
      ]
     },
     "execution_count": 13,
     "metadata": {},
     "output_type": "execute_result"
    }
   ],
   "source": [
    " query = \"\"\"\n",
    "    SELECT\n",
    "        MAX(op.payment_installments) AS max_installments \n",
    "    FROM\n",
    "        order_payments op  \n",
    "    \"\"\"\n",
    "\n",
    "pd.read_sql(query, cursor)"
   ]
  },
  {
   "cell_type": "markdown",
   "id": "919ea986",
   "metadata": {},
   "source": [
    "**12.** Qual o menor número de parcelas realizado?"
   ]
  },
  {
   "cell_type": "code",
   "execution_count": 14,
   "id": "a464758d",
   "metadata": {
    "ExecuteTime": {
     "end_time": "2022-11-10T22:03:48.160992Z",
     "start_time": "2022-11-10T22:03:48.126083Z"
    }
   },
   "outputs": [
    {
     "data": {
      "text/html": [
       "<div>\n",
       "<style scoped>\n",
       "    .dataframe tbody tr th:only-of-type {\n",
       "        vertical-align: middle;\n",
       "    }\n",
       "\n",
       "    .dataframe tbody tr th {\n",
       "        vertical-align: top;\n",
       "    }\n",
       "\n",
       "    .dataframe thead th {\n",
       "        text-align: right;\n",
       "    }\n",
       "</style>\n",
       "<table border=\"1\" class=\"dataframe\">\n",
       "  <thead>\n",
       "    <tr style=\"text-align: right;\">\n",
       "      <th></th>\n",
       "      <th>min_installments</th>\n",
       "    </tr>\n",
       "  </thead>\n",
       "  <tbody>\n",
       "    <tr>\n",
       "      <th>0</th>\n",
       "      <td>0</td>\n",
       "    </tr>\n",
       "  </tbody>\n",
       "</table>\n",
       "</div>"
      ],
      "text/plain": [
       "   min_installments\n",
       "0                 0"
      ]
     },
     "execution_count": 14,
     "metadata": {},
     "output_type": "execute_result"
    }
   ],
   "source": [
    " query = \"\"\"\n",
    "    SELECT\n",
    "        MIN(op.payment_installments) AS min_installments \n",
    "    FROM \n",
    "        order_payments op  \n",
    "    \"\"\"\n",
    "\n",
    "pd.read_sql(query, cursor)"
   ]
  },
  {
   "cell_type": "markdown",
   "id": "0decb0c3",
   "metadata": {},
   "source": [
    "**13.** Qual a média do valor pago no cartão de crédito?\n"
   ]
  },
  {
   "cell_type": "code",
   "execution_count": 15,
   "id": "5ba56ae9",
   "metadata": {
    "ExecuteTime": {
     "end_time": "2022-11-10T22:03:48.469183Z",
     "start_time": "2022-11-10T22:03:48.421293Z"
    }
   },
   "outputs": [
    {
     "data": {
      "text/html": [
       "<div>\n",
       "<style scoped>\n",
       "    .dataframe tbody tr th:only-of-type {\n",
       "        vertical-align: middle;\n",
       "    }\n",
       "\n",
       "    .dataframe tbody tr th {\n",
       "        vertical-align: top;\n",
       "    }\n",
       "\n",
       "    .dataframe thead th {\n",
       "        text-align: right;\n",
       "    }\n",
       "</style>\n",
       "<table border=\"1\" class=\"dataframe\">\n",
       "  <thead>\n",
       "    <tr style=\"text-align: right;\">\n",
       "      <th></th>\n",
       "      <th>mean_payments_credit_card</th>\n",
       "    </tr>\n",
       "  </thead>\n",
       "  <tbody>\n",
       "    <tr>\n",
       "      <th>0</th>\n",
       "      <td>163.319021</td>\n",
       "    </tr>\n",
       "  </tbody>\n",
       "</table>\n",
       "</div>"
      ],
      "text/plain": [
       "   mean_payments_credit_card\n",
       "0                 163.319021"
      ]
     },
     "execution_count": 15,
     "metadata": {},
     "output_type": "execute_result"
    }
   ],
   "source": [
    " query = \"\"\"\n",
    "    SELECT \n",
    "        AVG(op.payment_value) AS mean_payments_credit_card \n",
    "    FROM \n",
    "        order_payments op \n",
    "    WHERE\n",
    "        op.payment_type = 'credit_card'\n",
    "    \"\"\"\n",
    "\n",
    "pd.read_sql(query, cursor)"
   ]
  },
  {
   "cell_type": "markdown",
   "id": "2f45b3bd",
   "metadata": {},
   "source": [
    "**14.** Quantos tipos de status para um pedido existem?"
   ]
  },
  {
   "cell_type": "code",
   "execution_count": 16,
   "id": "6a6bf087",
   "metadata": {
    "ExecuteTime": {
     "end_time": "2022-11-10T22:03:49.382849Z",
     "start_time": "2022-11-10T22:03:49.312006Z"
    }
   },
   "outputs": [
    {
     "data": {
      "text/html": [
       "<div>\n",
       "<style scoped>\n",
       "    .dataframe tbody tr th:only-of-type {\n",
       "        vertical-align: middle;\n",
       "    }\n",
       "\n",
       "    .dataframe tbody tr th {\n",
       "        vertical-align: top;\n",
       "    }\n",
       "\n",
       "    .dataframe thead th {\n",
       "        text-align: right;\n",
       "    }\n",
       "</style>\n",
       "<table border=\"1\" class=\"dataframe\">\n",
       "  <thead>\n",
       "    <tr style=\"text-align: right;\">\n",
       "      <th></th>\n",
       "      <th>num_types_order_status</th>\n",
       "    </tr>\n",
       "  </thead>\n",
       "  <tbody>\n",
       "    <tr>\n",
       "      <th>0</th>\n",
       "      <td>8</td>\n",
       "    </tr>\n",
       "  </tbody>\n",
       "</table>\n",
       "</div>"
      ],
      "text/plain": [
       "   num_types_order_status\n",
       "0                       8"
      ]
     },
     "execution_count": 16,
     "metadata": {},
     "output_type": "execute_result"
    }
   ],
   "source": [
    " query = \"\"\"\n",
    "    SELECT\n",
    "        COUNT( DISTINCT o.order_status ) AS num_types_order_status \n",
    "    FROM \n",
    "        orders o \n",
    "    \"\"\"\n",
    "\n",
    "pd.read_sql(query, cursor)"
   ]
  },
  {
   "cell_type": "markdown",
   "id": "7388d9fe",
   "metadata": {},
   "source": [
    "**15.** Quais os tipos de status para um pedido?\n"
   ]
  },
  {
   "cell_type": "code",
   "execution_count": 17,
   "id": "6bac9bca",
   "metadata": {
    "ExecuteTime": {
     "end_time": "2022-11-10T22:03:49.752863Z",
     "start_time": "2022-11-10T22:03:49.683014Z"
    }
   },
   "outputs": [
    {
     "data": {
      "text/html": [
       "<div>\n",
       "<style scoped>\n",
       "    .dataframe tbody tr th:only-of-type {\n",
       "        vertical-align: middle;\n",
       "    }\n",
       "\n",
       "    .dataframe tbody tr th {\n",
       "        vertical-align: top;\n",
       "    }\n",
       "\n",
       "    .dataframe thead th {\n",
       "        text-align: right;\n",
       "    }\n",
       "</style>\n",
       "<table border=\"1\" class=\"dataframe\">\n",
       "  <thead>\n",
       "    <tr style=\"text-align: right;\">\n",
       "      <th></th>\n",
       "      <th>types_orders_status</th>\n",
       "    </tr>\n",
       "  </thead>\n",
       "  <tbody>\n",
       "    <tr>\n",
       "      <th>0</th>\n",
       "      <td>delivered</td>\n",
       "    </tr>\n",
       "    <tr>\n",
       "      <th>1</th>\n",
       "      <td>invoiced</td>\n",
       "    </tr>\n",
       "    <tr>\n",
       "      <th>2</th>\n",
       "      <td>shipped</td>\n",
       "    </tr>\n",
       "    <tr>\n",
       "      <th>3</th>\n",
       "      <td>processing</td>\n",
       "    </tr>\n",
       "    <tr>\n",
       "      <th>4</th>\n",
       "      <td>unavailable</td>\n",
       "    </tr>\n",
       "    <tr>\n",
       "      <th>5</th>\n",
       "      <td>canceled</td>\n",
       "    </tr>\n",
       "    <tr>\n",
       "      <th>6</th>\n",
       "      <td>created</td>\n",
       "    </tr>\n",
       "    <tr>\n",
       "      <th>7</th>\n",
       "      <td>approved</td>\n",
       "    </tr>\n",
       "  </tbody>\n",
       "</table>\n",
       "</div>"
      ],
      "text/plain": [
       "  types_orders_status\n",
       "0           delivered\n",
       "1            invoiced\n",
       "2             shipped\n",
       "3          processing\n",
       "4         unavailable\n",
       "5            canceled\n",
       "6             created\n",
       "7            approved"
      ]
     },
     "execution_count": 17,
     "metadata": {},
     "output_type": "execute_result"
    }
   ],
   "source": [
    " query = \"\"\"\n",
    "    SELECT \n",
    "        DISTINCT o.order_status AS types_orders_status\n",
    "    FROM \n",
    "        orders o \n",
    "    \"\"\"\n",
    "\n",
    "pd.read_sql(query, cursor)"
   ]
  },
  {
   "cell_type": "markdown",
   "id": "0707d750",
   "metadata": {},
   "source": [
    "**16.** Quantos clientes distintos fizeram um pedido?"
   ]
  },
  {
   "cell_type": "code",
   "execution_count": 18,
   "id": "0e06e287",
   "metadata": {
    "ExecuteTime": {
     "end_time": "2022-11-10T22:03:51.194272Z",
     "start_time": "2022-11-10T22:03:50.754200Z"
    }
   },
   "outputs": [
    {
     "data": {
      "text/html": [
       "<div>\n",
       "<style scoped>\n",
       "    .dataframe tbody tr th:only-of-type {\n",
       "        vertical-align: middle;\n",
       "    }\n",
       "\n",
       "    .dataframe tbody tr th {\n",
       "        vertical-align: top;\n",
       "    }\n",
       "\n",
       "    .dataframe thead th {\n",
       "        text-align: right;\n",
       "    }\n",
       "</style>\n",
       "<table border=\"1\" class=\"dataframe\">\n",
       "  <thead>\n",
       "    <tr style=\"text-align: right;\">\n",
       "      <th></th>\n",
       "      <th>quant_clientes_distintos</th>\n",
       "    </tr>\n",
       "  </thead>\n",
       "  <tbody>\n",
       "    <tr>\n",
       "      <th>0</th>\n",
       "      <td>99441</td>\n",
       "    </tr>\n",
       "  </tbody>\n",
       "</table>\n",
       "</div>"
      ],
      "text/plain": [
       "   quant_clientes_distintos\n",
       "0                     99441"
      ]
     },
     "execution_count": 18,
     "metadata": {},
     "output_type": "execute_result"
    }
   ],
   "source": [
    " query = \"\"\"\n",
    "        SELECT\n",
    "        COUNT( DISTINCT o.customer_id ) AS quant_clientes_distintos \n",
    "    FROM \n",
    "        orders o \n",
    "    \"\"\"\n",
    "\n",
    "pd.read_sql(query, cursor)"
   ]
  },
  {
   "cell_type": "markdown",
   "id": "bebfae90",
   "metadata": {},
   "source": [
    "**17.** Quantos produtos estão cadastrados na empresa?"
   ]
  },
  {
   "cell_type": "code",
   "execution_count": 19,
   "id": "6fef4283",
   "metadata": {
    "ExecuteTime": {
     "end_time": "2022-11-10T22:03:51.441700Z",
     "start_time": "2022-11-10T22:03:51.382857Z"
    }
   },
   "outputs": [
    {
     "data": {
      "text/html": [
       "<div>\n",
       "<style scoped>\n",
       "    .dataframe tbody tr th:only-of-type {\n",
       "        vertical-align: middle;\n",
       "    }\n",
       "\n",
       "    .dataframe tbody tr th {\n",
       "        vertical-align: top;\n",
       "    }\n",
       "\n",
       "    .dataframe thead th {\n",
       "        text-align: right;\n",
       "    }\n",
       "</style>\n",
       "<table border=\"1\" class=\"dataframe\">\n",
       "  <thead>\n",
       "    <tr style=\"text-align: right;\">\n",
       "      <th></th>\n",
       "      <th>quant_product</th>\n",
       "    </tr>\n",
       "  </thead>\n",
       "  <tbody>\n",
       "    <tr>\n",
       "      <th>0</th>\n",
       "      <td>32951</td>\n",
       "    </tr>\n",
       "  </tbody>\n",
       "</table>\n",
       "</div>"
      ],
      "text/plain": [
       "   quant_product\n",
       "0          32951"
      ]
     },
     "execution_count": 19,
     "metadata": {},
     "output_type": "execute_result"
    }
   ],
   "source": [
    " query = \"\"\"\n",
    "    SELECT\n",
    "        COUNT(DISTINCT p.product_id) AS quant_product \n",
    "    FROM \n",
    "        products p \n",
    "    \"\"\"\n",
    "\n",
    "pd.read_sql(query, cursor)"
   ]
  },
  {
   "cell_type": "markdown",
   "id": "591c65cb",
   "metadata": {},
   "source": [
    "**18.** Qual a quantidade máxima de fotos de um produto?\n"
   ]
  },
  {
   "cell_type": "code",
   "execution_count": 20,
   "id": "39ab0b2e",
   "metadata": {
    "ExecuteTime": {
     "end_time": "2022-11-10T22:03:52.185710Z",
     "start_time": "2022-11-10T22:03:52.162771Z"
    }
   },
   "outputs": [
    {
     "data": {
      "text/html": [
       "<div>\n",
       "<style scoped>\n",
       "    .dataframe tbody tr th:only-of-type {\n",
       "        vertical-align: middle;\n",
       "    }\n",
       "\n",
       "    .dataframe tbody tr th {\n",
       "        vertical-align: top;\n",
       "    }\n",
       "\n",
       "    .dataframe thead th {\n",
       "        text-align: right;\n",
       "    }\n",
       "</style>\n",
       "<table border=\"1\" class=\"dataframe\">\n",
       "  <thead>\n",
       "    <tr style=\"text-align: right;\">\n",
       "      <th></th>\n",
       "      <th>product_id</th>\n",
       "      <th>num_max_photos</th>\n",
       "    </tr>\n",
       "  </thead>\n",
       "  <tbody>\n",
       "    <tr>\n",
       "      <th>0</th>\n",
       "      <td>f95d5d21561ea085ba1e1a4e53840844</td>\n",
       "      <td>20.0</td>\n",
       "    </tr>\n",
       "  </tbody>\n",
       "</table>\n",
       "</div>"
      ],
      "text/plain": [
       "                         product_id  num_max_photos\n",
       "0  f95d5d21561ea085ba1e1a4e53840844            20.0"
      ]
     },
     "execution_count": 20,
     "metadata": {},
     "output_type": "execute_result"
    }
   ],
   "source": [
    " query = \"\"\"\n",
    "    SELECT\n",
    "        p.product_id , MAX(p.product_photos_qty) AS num_max_photos\n",
    "    FROM \n",
    "        products p \n",
    "    \"\"\"\n",
    "\n",
    "pd.read_sql(query, cursor)"
   ]
  },
  {
   "cell_type": "markdown",
   "id": "6be50c1a",
   "metadata": {},
   "source": [
    "**19.** Qual o maior valor do peso entre todos os produtos?"
   ]
  },
  {
   "cell_type": "code",
   "execution_count": 21,
   "id": "5297891e",
   "metadata": {
    "ExecuteTime": {
     "end_time": "2022-11-10T22:03:52.650709Z",
     "start_time": "2022-11-10T22:03:52.605586Z"
    }
   },
   "outputs": [
    {
     "data": {
      "text/html": [
       "<div>\n",
       "<style scoped>\n",
       "    .dataframe tbody tr th:only-of-type {\n",
       "        vertical-align: middle;\n",
       "    }\n",
       "\n",
       "    .dataframe tbody tr th {\n",
       "        vertical-align: top;\n",
       "    }\n",
       "\n",
       "    .dataframe thead th {\n",
       "        text-align: right;\n",
       "    }\n",
       "</style>\n",
       "<table border=\"1\" class=\"dataframe\">\n",
       "  <thead>\n",
       "    <tr style=\"text-align: right;\">\n",
       "      <th></th>\n",
       "      <th>product_id</th>\n",
       "      <th>max_weight</th>\n",
       "    </tr>\n",
       "  </thead>\n",
       "  <tbody>\n",
       "    <tr>\n",
       "      <th>0</th>\n",
       "      <td>c5ef13c4546279ceb81432eaef3cef41</td>\n",
       "      <td>40425.0</td>\n",
       "    </tr>\n",
       "  </tbody>\n",
       "</table>\n",
       "</div>"
      ],
      "text/plain": [
       "                         product_id  max_weight\n",
       "0  c5ef13c4546279ceb81432eaef3cef41     40425.0"
      ]
     },
     "execution_count": 21,
     "metadata": {},
     "output_type": "execute_result"
    }
   ],
   "source": [
    " query = \"\"\"\n",
    "    SELECT \n",
    "        p.product_id , MAX(DISTINCT p.product_weight_g) AS max_weight  \n",
    "    FROM\n",
    "        products p \n",
    "    \"\"\"\n",
    "\n",
    "pd.read_sql(query, cursor)"
   ]
  },
  {
   "cell_type": "markdown",
   "id": "be501e1c",
   "metadata": {
    "ExecuteTime": {
     "end_time": "2022-11-09T00:41:19.574910Z",
     "start_time": "2022-11-09T00:41:19.551744Z"
    }
   },
   "source": [
    "**20.** Qual a altura média dos produtos?"
   ]
  },
  {
   "cell_type": "code",
   "execution_count": 22,
   "id": "c12d6918",
   "metadata": {
    "ExecuteTime": {
     "end_time": "2022-11-10T22:03:53.038428Z",
     "start_time": "2022-11-10T22:03:53.011500Z"
    }
   },
   "outputs": [
    {
     "data": {
      "text/html": [
       "<div>\n",
       "<style scoped>\n",
       "    .dataframe tbody tr th:only-of-type {\n",
       "        vertical-align: middle;\n",
       "    }\n",
       "\n",
       "    .dataframe tbody tr th {\n",
       "        vertical-align: top;\n",
       "    }\n",
       "\n",
       "    .dataframe thead th {\n",
       "        text-align: right;\n",
       "    }\n",
       "</style>\n",
       "<table border=\"1\" class=\"dataframe\">\n",
       "  <thead>\n",
       "    <tr style=\"text-align: right;\">\n",
       "      <th></th>\n",
       "      <th>avg_height</th>\n",
       "    </tr>\n",
       "  </thead>\n",
       "  <tbody>\n",
       "    <tr>\n",
       "      <th>0</th>\n",
       "      <td>52.666667</td>\n",
       "    </tr>\n",
       "  </tbody>\n",
       "</table>\n",
       "</div>"
      ],
      "text/plain": [
       "   avg_height\n",
       "0   52.666667"
      ]
     },
     "execution_count": 22,
     "metadata": {},
     "output_type": "execute_result"
    }
   ],
   "source": [
    "query = \"\"\"\n",
    "    SELECT\n",
    "        AVG(DISTINCT p.product_height_cm) AS avg_height \n",
    "    FROM \n",
    "        products p \n",
    "    \"\"\"\n",
    "\n",
    "pd.read_sql(query, cursor)"
   ]
  },
  {
   "cell_type": "code",
   "execution_count": null,
   "id": "6967eef6",
   "metadata": {},
   "outputs": [],
   "source": []
  },
  {
   "cell_type": "code",
   "execution_count": null,
   "id": "18ea3fdc",
   "metadata": {},
   "outputs": [],
   "source": []
  },
  {
   "cell_type": "code",
   "execution_count": null,
   "id": "d43db733",
   "metadata": {},
   "outputs": [],
   "source": []
  },
  {
   "cell_type": "code",
   "execution_count": null,
   "id": "05f094a4",
   "metadata": {},
   "outputs": [],
   "source": []
  },
  {
   "cell_type": "code",
   "execution_count": null,
   "id": "c8161b8b",
   "metadata": {},
   "outputs": [],
   "source": []
  }
 ],
 "metadata": {
  "kernelspec": {
   "display_name": "Python 3 (ipykernel)",
   "language": "python",
   "name": "python3"
  },
  "language_info": {
   "codemirror_mode": {
    "name": "ipython",
    "version": 3
   },
   "file_extension": ".py",
   "mimetype": "text/x-python",
   "name": "python",
   "nbconvert_exporter": "python",
   "pygments_lexer": "ipython3",
   "version": "3.8.0"
  }
 },
 "nbformat": 4,
 "nbformat_minor": 5
}
