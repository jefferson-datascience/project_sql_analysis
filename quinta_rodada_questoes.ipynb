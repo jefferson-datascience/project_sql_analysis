{
 "cells": [
  {
   "cell_type": "markdown",
   "id": "f1c4a2dc",
   "metadata": {},
   "source": [
    "## 5ª Rodada de Questões do CEO "
   ]
  },
  {
   "cell_type": "markdown",
   "id": "49da4bdb",
   "metadata": {},
   "source": [
    "### Bibliotecas"
   ]
  },
  {
   "cell_type": "code",
   "execution_count": 1,
   "id": "9f527edd",
   "metadata": {
    "ExecuteTime": {
     "end_time": "2022-11-10T22:06:31.099425Z",
     "start_time": "2022-11-10T22:06:30.425229Z"
    }
   },
   "outputs": [],
   "source": [
    "from sqlalchemy import create_engine\n",
    "import pandas as pd"
   ]
  },
  {
   "cell_type": "markdown",
   "id": "f300607a",
   "metadata": {},
   "source": [
    "### Acessando o Banco de Dados\n"
   ]
  },
  {
   "cell_type": "code",
   "execution_count": 2,
   "id": "69fc638a",
   "metadata": {
    "ExecuteTime": {
     "end_time": "2022-11-10T22:06:31.145303Z",
     "start_time": "2022-11-10T22:06:31.102416Z"
    }
   },
   "outputs": [],
   "source": [
    "# Conexão com o Banco\n",
    "engine = create_engine('sqlite:///db_olist.sqlite')\n",
    "\n",
    "# Criando a conexão com o Banco\n",
    "cursor = engine.connect()"
   ]
  },
  {
   "cell_type": "markdown",
   "id": "d72c5540",
   "metadata": {},
   "source": [
    "**1.** Qual o número de clientes únicos nos estado de Minas Gerais ou Rio de Janeiro?\n"
   ]
  },
  {
   "cell_type": "code",
   "execution_count": 3,
   "id": "0da04f86",
   "metadata": {
    "ExecuteTime": {
     "end_time": "2022-11-10T22:06:31.392640Z",
     "start_time": "2022-11-10T22:06:31.163260Z"
    },
    "hide_input": false
   },
   "outputs": [
    {
     "data": {
      "text/html": [
       "<div>\n",
       "<style scoped>\n",
       "    .dataframe tbody tr th:only-of-type {\n",
       "        vertical-align: middle;\n",
       "    }\n",
       "\n",
       "    .dataframe tbody tr th {\n",
       "        vertical-align: top;\n",
       "    }\n",
       "\n",
       "    .dataframe thead th {\n",
       "        text-align: right;\n",
       "    }\n",
       "</style>\n",
       "<table border=\"1\" class=\"dataframe\">\n",
       "  <thead>\n",
       "    <tr style=\"text-align: right;\">\n",
       "      <th></th>\n",
       "      <th>customer_state</th>\n",
       "      <th>num_unique_customers</th>\n",
       "    </tr>\n",
       "  </thead>\n",
       "  <tbody>\n",
       "    <tr>\n",
       "      <th>0</th>\n",
       "      <td>MG</td>\n",
       "      <td>11635</td>\n",
       "    </tr>\n",
       "    <tr>\n",
       "      <th>1</th>\n",
       "      <td>SP</td>\n",
       "      <td>41746</td>\n",
       "    </tr>\n",
       "  </tbody>\n",
       "</table>\n",
       "</div>"
      ],
      "text/plain": [
       "  customer_state  num_unique_customers\n",
       "0             MG                 11635\n",
       "1             SP                 41746"
      ]
     },
     "execution_count": 3,
     "metadata": {},
     "output_type": "execute_result"
    }
   ],
   "source": [
    "query = \"\"\"\n",
    "    SELECT\n",
    "        c.customer_state, \n",
    "        COUNT(DISTINCT c.customer_id) AS num_unique_customers\n",
    "    FROM \n",
    "        customer c \n",
    "    WHERE\n",
    "        c.customer_state = 'MG' OR c.customer_state = 'SP'\n",
    "    GROUP BY \t\n",
    "        c.customer_state \n",
    "        \"\"\"\n",
    "pd.read_sql(query, cursor)"
   ]
  },
  {
   "cell_type": "markdown",
   "id": "c85c43b8",
   "metadata": {},
   "source": [
    "**2.** Qual a quantidade de cidades únicas dos vendedores no estado de São Paulo ou Rio de Janeiro com a latitude maior que -24.54 e longitude menor que -45.63?\n"
   ]
  },
  {
   "cell_type": "code",
   "execution_count": 4,
   "id": "cfdfb59a",
   "metadata": {
    "ExecuteTime": {
     "end_time": "2022-11-10T22:06:31.779606Z",
     "start_time": "2022-11-10T22:06:31.420564Z"
    },
    "hide_input": false
   },
   "outputs": [
    {
     "data": {
      "text/html": [
       "<div>\n",
       "<style scoped>\n",
       "    .dataframe tbody tr th:only-of-type {\n",
       "        vertical-align: middle;\n",
       "    }\n",
       "\n",
       "    .dataframe tbody tr th {\n",
       "        vertical-align: top;\n",
       "    }\n",
       "\n",
       "    .dataframe thead th {\n",
       "        text-align: right;\n",
       "    }\n",
       "</style>\n",
       "<table border=\"1\" class=\"dataframe\">\n",
       "  <thead>\n",
       "    <tr style=\"text-align: right;\">\n",
       "      <th></th>\n",
       "      <th>geolocation_state</th>\n",
       "      <th>quant_unique_cities</th>\n",
       "    </tr>\n",
       "  </thead>\n",
       "  <tbody>\n",
       "    <tr>\n",
       "      <th>0</th>\n",
       "      <td>RJ</td>\n",
       "      <td>9</td>\n",
       "    </tr>\n",
       "    <tr>\n",
       "      <th>1</th>\n",
       "      <td>SP</td>\n",
       "      <td>1048</td>\n",
       "    </tr>\n",
       "  </tbody>\n",
       "</table>\n",
       "</div>"
      ],
      "text/plain": [
       "  geolocation_state  quant_unique_cities\n",
       "0                RJ                    9\n",
       "1                SP                 1048"
      ]
     },
     "execution_count": 4,
     "metadata": {},
     "output_type": "execute_result"
    }
   ],
   "source": [
    "query = \"\"\"\n",
    "    SELECT\n",
    "        g.geolocation_state, \n",
    "        COUNT(DISTINCT g.geolocation_city) AS quant_unique_cities \n",
    "    FROM\n",
    "        geolocation g \n",
    "    WHERE\n",
    "        g.geolocation_state = 'SP' OR g.geolocation_state = 'RJ'\n",
    "        AND (g.geolocation_lat  > -24.54 AND g.geolocation_lng < -45.63)\n",
    "    GROUP BY \n",
    "        g.geolocation_state \n",
    "        \"\"\"\n",
    "\n",
    "pd.read_sql(query, cursor)"
   ]
  },
  {
   "cell_type": "markdown",
   "id": "8e88b50d",
   "metadata": {},
   "source": [
    "**3.** Qual o número total de pedidos únicos, o número total de produtos e o preço médio dos pedidos com o preço de frete maior que  20,00 e a data limite de envio entre os dias 1 e 31 de Outubro de 2016?\n"
   ]
  },
  {
   "cell_type": "code",
   "execution_count": 5,
   "id": "6914e48f",
   "metadata": {
    "ExecuteTime": {
     "end_time": "2022-11-10T22:06:31.856641Z",
     "start_time": "2022-11-10T22:06:31.783593Z"
    },
    "hide_input": false
   },
   "outputs": [
    {
     "data": {
      "text/html": [
       "<div>\n",
       "<style scoped>\n",
       "    .dataframe tbody tr th:only-of-type {\n",
       "        vertical-align: middle;\n",
       "    }\n",
       "\n",
       "    .dataframe tbody tr th {\n",
       "        vertical-align: top;\n",
       "    }\n",
       "\n",
       "    .dataframe thead th {\n",
       "        text-align: right;\n",
       "    }\n",
       "</style>\n",
       "<table border=\"1\" class=\"dataframe\">\n",
       "  <thead>\n",
       "    <tr style=\"text-align: right;\">\n",
       "      <th></th>\n",
       "      <th>total_orders</th>\n",
       "      <th>total_products</th>\n",
       "      <th>mean_price</th>\n",
       "    </tr>\n",
       "  </thead>\n",
       "  <tbody>\n",
       "    <tr>\n",
       "      <th>0</th>\n",
       "      <td>103</td>\n",
       "      <td>91</td>\n",
       "      <td>229.672308</td>\n",
       "    </tr>\n",
       "  </tbody>\n",
       "</table>\n",
       "</div>"
      ],
      "text/plain": [
       "   total_orders  total_products  mean_price\n",
       "0           103              91  229.672308"
      ]
     },
     "execution_count": 5,
     "metadata": {},
     "output_type": "execute_result"
    }
   ],
   "source": [
    "query = \"\"\"\n",
    "          SELECT\n",
    "        COUNT(DISTINCT oi.order_id)   AS total_orders,\n",
    "        COUNT(DISTINCT oi.product_id) AS total_products,\n",
    "        AVG(oi.price)                 AS mean_price \n",
    "    FROM \n",
    "        order_items oi \n",
    "    WHERE\n",
    "        oi.freight_value > 20.00\n",
    "        AND (DATE(oi.shipping_limit_date) >= '2016-10-01'AND DATE(oi.shipping_limit_date) <= '2016-10-31')\n",
    "        \"\"\"\n",
    "\n",
    "pd.read_sql(query, cursor)"
   ]
  },
  {
   "cell_type": "markdown",
   "id": "d3fe4b7a",
   "metadata": {},
   "source": [
    "\n",
    "\n",
    "**4.** Mostre a quantidade total dos pedidos e o valor total do pagamento, para pagamentos entre 1 e 5 prestações ou um valor de pagamento acima de 5.000,00\n",
    "    \n"
   ]
  },
  {
   "cell_type": "code",
   "execution_count": 6,
   "id": "a7affea3",
   "metadata": {
    "ExecuteTime": {
     "end_time": "2022-11-10T22:06:32.196528Z",
     "start_time": "2022-11-10T22:06:31.926212Z"
    },
    "hide_input": false
   },
   "outputs": [
    {
     "data": {
      "text/html": [
       "<div>\n",
       "<style scoped>\n",
       "    .dataframe tbody tr th:only-of-type {\n",
       "        vertical-align: middle;\n",
       "    }\n",
       "\n",
       "    .dataframe tbody tr th {\n",
       "        vertical-align: top;\n",
       "    }\n",
       "\n",
       "    .dataframe thead th {\n",
       "        text-align: right;\n",
       "    }\n",
       "</style>\n",
       "<table border=\"1\" class=\"dataframe\">\n",
       "  <thead>\n",
       "    <tr style=\"text-align: right;\">\n",
       "      <th></th>\n",
       "      <th>payment_type</th>\n",
       "      <th>payment_installments</th>\n",
       "      <th>total_orders</th>\n",
       "      <th>total_payments_value</th>\n",
       "    </tr>\n",
       "  </thead>\n",
       "  <tbody>\n",
       "    <tr>\n",
       "      <th>0</th>\n",
       "      <td>boleto</td>\n",
       "      <td>1</td>\n",
       "      <td>19784</td>\n",
       "      <td>2869361.27</td>\n",
       "    </tr>\n",
       "    <tr>\n",
       "      <th>1</th>\n",
       "      <td>credit_card</td>\n",
       "      <td>1</td>\n",
       "      <td>25455</td>\n",
       "      <td>2440445.43</td>\n",
       "    </tr>\n",
       "    <tr>\n",
       "      <th>2</th>\n",
       "      <td>credit_card</td>\n",
       "      <td>2</td>\n",
       "      <td>12413</td>\n",
       "      <td>1579283.03</td>\n",
       "    </tr>\n",
       "    <tr>\n",
       "      <th>3</th>\n",
       "      <td>credit_card</td>\n",
       "      <td>3</td>\n",
       "      <td>10461</td>\n",
       "      <td>1491103.80</td>\n",
       "    </tr>\n",
       "    <tr>\n",
       "      <th>4</th>\n",
       "      <td>credit_card</td>\n",
       "      <td>4</td>\n",
       "      <td>7098</td>\n",
       "      <td>1163907.61</td>\n",
       "    </tr>\n",
       "    <tr>\n",
       "      <th>5</th>\n",
       "      <td>credit_card</td>\n",
       "      <td>5</td>\n",
       "      <td>5239</td>\n",
       "      <td>961174.30</td>\n",
       "    </tr>\n",
       "    <tr>\n",
       "      <th>6</th>\n",
       "      <td>credit_card</td>\n",
       "      <td>8</td>\n",
       "      <td>1</td>\n",
       "      <td>6929.31</td>\n",
       "    </tr>\n",
       "    <tr>\n",
       "      <th>7</th>\n",
       "      <td>debit_card</td>\n",
       "      <td>1</td>\n",
       "      <td>1529</td>\n",
       "      <td>217989.79</td>\n",
       "    </tr>\n",
       "    <tr>\n",
       "      <th>8</th>\n",
       "      <td>not_defined</td>\n",
       "      <td>1</td>\n",
       "      <td>3</td>\n",
       "      <td>0.00</td>\n",
       "    </tr>\n",
       "    <tr>\n",
       "      <th>9</th>\n",
       "      <td>voucher</td>\n",
       "      <td>1</td>\n",
       "      <td>5775</td>\n",
       "      <td>379436.87</td>\n",
       "    </tr>\n",
       "  </tbody>\n",
       "</table>\n",
       "</div>"
      ],
      "text/plain": [
       "  payment_type  payment_installments  total_orders  total_payments_value\n",
       "0       boleto                     1         19784            2869361.27\n",
       "1  credit_card                     1         25455            2440445.43\n",
       "2  credit_card                     2         12413            1579283.03\n",
       "3  credit_card                     3         10461            1491103.80\n",
       "4  credit_card                     4          7098            1163907.61\n",
       "5  credit_card                     5          5239             961174.30\n",
       "6  credit_card                     8             1               6929.31\n",
       "7   debit_card                     1          1529             217989.79\n",
       "8  not_defined                     1             3                  0.00\n",
       "9      voucher                     1          5775             379436.87"
      ]
     },
     "execution_count": 6,
     "metadata": {},
     "output_type": "execute_result"
    }
   ],
   "source": [
    "query = \"\"\"\n",
    "      SELECT \n",
    "        op.payment_type, op.payment_installments, \n",
    "        COUNT(op.order_id) AS total_orders,\n",
    "        SUM(op.payment_value) AS total_payments_value \n",
    "    FROM \n",
    "        order_payments op \n",
    "    WHERE\n",
    "       (op.payment_installments >= 1 AND op.payment_installments  <= 5) \n",
    "       OR op.payment_value > 5000\n",
    "    GROUP BY \n",
    "        op.payment_type, op.payment_installments \n",
    "        \"\"\"\n",
    "\n",
    "pd.read_sql(query, cursor)"
   ]
  },
  {
   "cell_type": "markdown",
   "id": "e2d1c788",
   "metadata": {},
   "source": [
    "**5.** Qual a quantidade de pedidos com o status em processamento ou cancelada acontecem com a data estimada de entrega maior que 01 de Janeiro de 2017 ou menor que 23 de Novembro de 2016?\n",
    "\n"
   ]
  },
  {
   "cell_type": "code",
   "execution_count": 7,
   "id": "272bbdc0",
   "metadata": {
    "ExecuteTime": {
     "end_time": "2022-11-10T22:06:32.289240Z",
     "start_time": "2022-11-10T22:06:32.221422Z"
    },
    "hide_input": false
   },
   "outputs": [
    {
     "data": {
      "text/html": [
       "<div>\n",
       "<style scoped>\n",
       "    .dataframe tbody tr th:only-of-type {\n",
       "        vertical-align: middle;\n",
       "    }\n",
       "\n",
       "    .dataframe tbody tr th {\n",
       "        vertical-align: top;\n",
       "    }\n",
       "\n",
       "    .dataframe thead th {\n",
       "        text-align: right;\n",
       "    }\n",
       "</style>\n",
       "<table border=\"1\" class=\"dataframe\">\n",
       "  <thead>\n",
       "    <tr style=\"text-align: right;\">\n",
       "      <th></th>\n",
       "      <th>order_status</th>\n",
       "      <th>num_orders</th>\n",
       "    </tr>\n",
       "  </thead>\n",
       "  <tbody>\n",
       "    <tr>\n",
       "      <th>0</th>\n",
       "      <td>canceled</td>\n",
       "      <td>611</td>\n",
       "    </tr>\n",
       "    <tr>\n",
       "      <th>1</th>\n",
       "      <td>processing</td>\n",
       "      <td>299</td>\n",
       "    </tr>\n",
       "  </tbody>\n",
       "</table>\n",
       "</div>"
      ],
      "text/plain": [
       "  order_status  num_orders\n",
       "0     canceled         611\n",
       "1   processing         299"
      ]
     },
     "execution_count": 7,
     "metadata": {},
     "output_type": "execute_result"
    }
   ],
   "source": [
    "query = \"\"\"\n",
    "    SELECT \n",
    "        o.order_status, \n",
    "        COUNT(o.order_status) AS num_orders \n",
    "    FROM\n",
    "        orders o \n",
    "    WHERE\n",
    "        (o.order_status = 'canceled' OR o.order_status = 'processing') AND \n",
    "        (DATE(o.order_estimated_delivery_date) > '2017-01-01' OR DATE(o.order_estimated_delivery_date) < '2016-11-23')\n",
    "    GROUP BY \n",
    "        o.order_status \n",
    "        \"\"\"\n",
    "\n",
    "pd.read_sql(query, cursor)"
   ]
  },
  {
   "cell_type": "markdown",
   "id": "fb906552",
   "metadata": {},
   "source": [
    "**6.** Quantos produtos estão cadastrados nas categorias: perfumaria, brinquedos, esporte lazer, cama mesa e banho e móveis de escritório que possuem mais de 5 fotos, um peso maior que 5 g, um altura maior que 10 cm, uma largura maior que 20 cm?"
   ]
  },
  {
   "cell_type": "code",
   "execution_count": 8,
   "id": "96ab0e57",
   "metadata": {
    "ExecuteTime": {
     "end_time": "2022-11-10T22:06:32.553568Z",
     "start_time": "2022-11-10T22:06:32.518662Z"
    },
    "hide_input": false
   },
   "outputs": [
    {
     "data": {
      "text/html": [
       "<div>\n",
       "<style scoped>\n",
       "    .dataframe tbody tr th:only-of-type {\n",
       "        vertical-align: middle;\n",
       "    }\n",
       "\n",
       "    .dataframe tbody tr th {\n",
       "        vertical-align: top;\n",
       "    }\n",
       "\n",
       "    .dataframe thead th {\n",
       "        text-align: right;\n",
       "    }\n",
       "</style>\n",
       "<table border=\"1\" class=\"dataframe\">\n",
       "  <thead>\n",
       "    <tr style=\"text-align: right;\">\n",
       "      <th></th>\n",
       "      <th>product_category_name</th>\n",
       "      <th>num_products</th>\n",
       "    </tr>\n",
       "  </thead>\n",
       "  <tbody>\n",
       "    <tr>\n",
       "      <th>0</th>\n",
       "      <td>brinquedos</td>\n",
       "      <td>30</td>\n",
       "    </tr>\n",
       "    <tr>\n",
       "      <th>1</th>\n",
       "      <td>cama_mesa_banho</td>\n",
       "      <td>22</td>\n",
       "    </tr>\n",
       "    <tr>\n",
       "      <th>2</th>\n",
       "      <td>esporte_lazer</td>\n",
       "      <td>69</td>\n",
       "    </tr>\n",
       "    <tr>\n",
       "      <th>3</th>\n",
       "      <td>moveis_escritorio</td>\n",
       "      <td>7</td>\n",
       "    </tr>\n",
       "    <tr>\n",
       "      <th>4</th>\n",
       "      <td>perfumaria</td>\n",
       "      <td>6</td>\n",
       "    </tr>\n",
       "  </tbody>\n",
       "</table>\n",
       "</div>"
      ],
      "text/plain": [
       "  product_category_name  num_products\n",
       "0            brinquedos            30\n",
       "1       cama_mesa_banho            22\n",
       "2         esporte_lazer            69\n",
       "3     moveis_escritorio             7\n",
       "4            perfumaria             6"
      ]
     },
     "execution_count": 8,
     "metadata": {},
     "output_type": "execute_result"
    }
   ],
   "source": [
    "query = \"\"\"\n",
    "    SELECT\n",
    "        p.product_category_name, \n",
    "        COUNT(DISTINCT p.product_id)  AS num_products \n",
    "    FROM\n",
    "        products p \n",
    "    WHERE\n",
    "        ( p.product_category_name = 'perfumaria'       \n",
    "         OR p.product_category_name = 'brinquedos'       \n",
    "         OR p.product_category_name = 'esporte_lazer'    \n",
    "         OR p.product_category_name = 'cama_mesa_banho' \n",
    "         OR p.product_category_name = 'moveis_escritorio' ) \n",
    "          AND (p.product_photos_qty > 5) \n",
    "          AND (p.product_weight_g > 5) \n",
    "          AND (p.product_height_cm > 10) \n",
    "          AND (p.product_width_cm > 20)\n",
    "    GROUP BY \n",
    "        p.product_category_name \n",
    "        \"\"\"\n",
    "\n",
    "pd.read_sql(query, cursor)"
   ]
  },
  {
   "cell_type": "code",
   "execution_count": null,
   "id": "f283ec1c",
   "metadata": {},
   "outputs": [],
   "source": []
  },
  {
   "cell_type": "code",
   "execution_count": null,
   "id": "82a353f5",
   "metadata": {},
   "outputs": [],
   "source": []
  },
  {
   "cell_type": "code",
   "execution_count": null,
   "id": "663ce285",
   "metadata": {},
   "outputs": [],
   "source": []
  },
  {
   "cell_type": "code",
   "execution_count": null,
   "id": "9d39219e",
   "metadata": {},
   "outputs": [],
   "source": []
  }
 ],
 "metadata": {
  "kernelspec": {
   "display_name": "Python 3 (ipykernel)",
   "language": "python",
   "name": "python3"
  },
  "language_info": {
   "codemirror_mode": {
    "name": "ipython",
    "version": 3
   },
   "file_extension": ".py",
   "mimetype": "text/x-python",
   "name": "python",
   "nbconvert_exporter": "python",
   "pygments_lexer": "ipython3",
   "version": "3.8.0"
  }
 },
 "nbformat": 4,
 "nbformat_minor": 5
}
