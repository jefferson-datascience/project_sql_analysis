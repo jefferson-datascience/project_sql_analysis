{
 "cells": [
  {
   "cell_type": "markdown",
   "id": "ebb09c91",
   "metadata": {
    "ExecuteTime": {
     "end_time": "2022-11-09T10:07:05.321881Z",
     "start_time": "2022-11-09T10:07:05.310907Z"
    }
   },
   "source": [
    "## 6ª Rodada de questões do CEO"
   ]
  },
  {
   "cell_type": "markdown",
   "id": "7a4f950f",
   "metadata": {},
   "source": [
    "### Bibliotecas"
   ]
  },
  {
   "cell_type": "code",
   "execution_count": 1,
   "id": "10086cc5",
   "metadata": {
    "ExecuteTime": {
     "end_time": "2022-11-10T22:06:43.803677Z",
     "start_time": "2022-11-10T22:06:43.191195Z"
    }
   },
   "outputs": [],
   "source": [
    "from sqlalchemy import create_engine\n",
    "import pandas as pd"
   ]
  },
  {
   "cell_type": "markdown",
   "id": "bbbe1420",
   "metadata": {},
   "source": [
    "### Acessando os Bancos de Dados"
   ]
  },
  {
   "cell_type": "code",
   "execution_count": 2,
   "id": "90d0b40c",
   "metadata": {
    "ExecuteTime": {
     "end_time": "2022-11-10T22:06:43.835592Z",
     "start_time": "2022-11-10T22:06:43.809594Z"
    }
   },
   "outputs": [],
   "source": [
    "# Conexão com o Banco\n",
    "engine = create_engine('sqlite:///db_olist.sqlite')\n",
    "\n",
    "# Criando a conexão com o Banco\n",
    "cursor = engine.connect()"
   ]
  },
  {
   "cell_type": "markdown",
   "id": "ff16e9dc",
   "metadata": {},
   "source": [
    "**1.** Quantos clientes únicos tiveram seu pedidos com status de “processing”, “shipped” e “delivered”, feitos entre os dias 01 e 31 de Outubro de 2016. Mostrar o resultado somente se o número total de clientes for acima de 5."
   ]
  },
  {
   "cell_type": "code",
   "execution_count": 3,
   "id": "c2678f55",
   "metadata": {
    "ExecuteTime": {
     "end_time": "2022-11-10T22:06:44.159717Z",
     "start_time": "2022-11-10T22:06:44.073946Z"
    },
    "hide_input": false
   },
   "outputs": [
    {
     "data": {
      "text/html": [
       "<div>\n",
       "<style scoped>\n",
       "    .dataframe tbody tr th:only-of-type {\n",
       "        vertical-align: middle;\n",
       "    }\n",
       "\n",
       "    .dataframe tbody tr th {\n",
       "        vertical-align: top;\n",
       "    }\n",
       "\n",
       "    .dataframe thead th {\n",
       "        text-align: right;\n",
       "    }\n",
       "</style>\n",
       "<table border=\"1\" class=\"dataframe\">\n",
       "  <thead>\n",
       "    <tr style=\"text-align: right;\">\n",
       "      <th></th>\n",
       "      <th>order_status</th>\n",
       "      <th>total_orders</th>\n",
       "    </tr>\n",
       "  </thead>\n",
       "  <tbody>\n",
       "    <tr>\n",
       "      <th>0</th>\n",
       "      <td>delivered</td>\n",
       "      <td>265</td>\n",
       "    </tr>\n",
       "    <tr>\n",
       "      <th>1</th>\n",
       "      <td>shipped</td>\n",
       "      <td>8</td>\n",
       "    </tr>\n",
       "  </tbody>\n",
       "</table>\n",
       "</div>"
      ],
      "text/plain": [
       "  order_status  total_orders\n",
       "0    delivered           265\n",
       "1      shipped             8"
      ]
     },
     "execution_count": 3,
     "metadata": {},
     "output_type": "execute_result"
    }
   ],
   "source": [
    "query = \"\"\"\n",
    "        SELECT \n",
    "            o.order_status,\n",
    "            COUNT(DISTINCT o.order_id) AS total_orders  \n",
    "        FROM \n",
    "            orders o \n",
    "        WHERE\n",
    "            o.order_status IN ('processing', 'shipped', 'delivered')\n",
    "            AND o.order_purchase_timestamp BETWEEN DATE('2016-10-01') AND  DATE('2016-10-31')\n",
    "        GROUP BY \n",
    "            o.order_status \n",
    "        HAVING \n",
    "            total_orders > 5\n",
    "        \"\"\"\n",
    "\n",
    "pd.read_sql(query, cursor)"
   ]
  },
  {
   "cell_type": "markdown",
   "id": "91d74fb4",
   "metadata": {},
   "source": [
    "**2.** Mostre a quantidade total dos pedidos e o valor total do pagamento, para pagamentos entre 1 e 5 prestações ou um valor de pagamento acima de 5.000,00"
   ]
  },
  {
   "cell_type": "code",
   "execution_count": 4,
   "id": "ad154b7e",
   "metadata": {
    "ExecuteTime": {
     "end_time": "2022-11-10T22:06:44.498845Z",
     "start_time": "2022-11-10T22:06:44.413038Z"
    },
    "hide_input": false
   },
   "outputs": [
    {
     "data": {
      "text/html": [
       "<div>\n",
       "<style scoped>\n",
       "    .dataframe tbody tr th:only-of-type {\n",
       "        vertical-align: middle;\n",
       "    }\n",
       "\n",
       "    .dataframe tbody tr th {\n",
       "        vertical-align: top;\n",
       "    }\n",
       "\n",
       "    .dataframe thead th {\n",
       "        text-align: right;\n",
       "    }\n",
       "</style>\n",
       "<table border=\"1\" class=\"dataframe\">\n",
       "  <thead>\n",
       "    <tr style=\"text-align: right;\">\n",
       "      <th></th>\n",
       "      <th>payment_type</th>\n",
       "      <th>total_orders</th>\n",
       "      <th>total_pauments_value</th>\n",
       "    </tr>\n",
       "  </thead>\n",
       "  <tbody>\n",
       "    <tr>\n",
       "      <th>0</th>\n",
       "      <td>boleto</td>\n",
       "      <td>19784</td>\n",
       "      <td>2869361.27</td>\n",
       "    </tr>\n",
       "    <tr>\n",
       "      <th>1</th>\n",
       "      <td>credit_card</td>\n",
       "      <td>60667</td>\n",
       "      <td>7642843.48</td>\n",
       "    </tr>\n",
       "    <tr>\n",
       "      <th>2</th>\n",
       "      <td>debit_card</td>\n",
       "      <td>1529</td>\n",
       "      <td>217989.79</td>\n",
       "    </tr>\n",
       "    <tr>\n",
       "      <th>3</th>\n",
       "      <td>not_defined</td>\n",
       "      <td>3</td>\n",
       "      <td>0.00</td>\n",
       "    </tr>\n",
       "    <tr>\n",
       "      <th>4</th>\n",
       "      <td>voucher</td>\n",
       "      <td>5775</td>\n",
       "      <td>379436.87</td>\n",
       "    </tr>\n",
       "  </tbody>\n",
       "</table>\n",
       "</div>"
      ],
      "text/plain": [
       "  payment_type  total_orders  total_pauments_value\n",
       "0       boleto         19784            2869361.27\n",
       "1  credit_card         60667            7642843.48\n",
       "2   debit_card          1529             217989.79\n",
       "3  not_defined             3                  0.00\n",
       "4      voucher          5775             379436.87"
      ]
     },
     "execution_count": 4,
     "metadata": {},
     "output_type": "execute_result"
    }
   ],
   "source": [
    "query = \"\"\"\n",
    "    SELECT \n",
    "        op.payment_type, \n",
    "        COUNT(op.order_id) AS total_orders,\n",
    "        SUM(op.payment_value) AS total_pauments_value\n",
    "    FROM \n",
    "        order_payments op \t\n",
    "    WHERE\n",
    "        (op.payment_installments BETWEEN 1 AND 5) \n",
    "        OR (op.payment_value > 5000)\n",
    "    GROUP BY \n",
    "        op.payment_type\n",
    "        \"\"\"\n",
    "\n",
    "pd.read_sql(query, cursor)"
   ]
  },
  {
   "cell_type": "markdown",
   "id": "1128416a",
   "metadata": {},
   "source": [
    "**3.** Quantos produtos estão cadastrados nas categorias: perfumaria, brinquedos, esporte lazer e cama mesa, que possuem entre 5 e 10 fotos, um peso que não está entre 1 e 5 g, um altura maior que 10 cm, uma largura maior que 20 cm. Mostra somente as linhas com mais de 10 produtos únicos.\n",
    "\n"
   ]
  },
  {
   "cell_type": "code",
   "execution_count": 5,
   "id": "5c06c8a8",
   "metadata": {
    "ExecuteTime": {
     "end_time": "2022-11-10T22:06:44.824939Z",
     "start_time": "2022-11-10T22:06:44.781054Z"
    },
    "hide_input": false
   },
   "outputs": [
    {
     "data": {
      "text/html": [
       "<div>\n",
       "<style scoped>\n",
       "    .dataframe tbody tr th:only-of-type {\n",
       "        vertical-align: middle;\n",
       "    }\n",
       "\n",
       "    .dataframe tbody tr th {\n",
       "        vertical-align: top;\n",
       "    }\n",
       "\n",
       "    .dataframe thead th {\n",
       "        text-align: right;\n",
       "    }\n",
       "</style>\n",
       "<table border=\"1\" class=\"dataframe\">\n",
       "  <thead>\n",
       "    <tr style=\"text-align: right;\">\n",
       "      <th></th>\n",
       "      <th>product_category_name</th>\n",
       "      <th>quant_products_cadastrado</th>\n",
       "    </tr>\n",
       "  </thead>\n",
       "  <tbody>\n",
       "    <tr>\n",
       "      <th>0</th>\n",
       "      <td>brinquedos</td>\n",
       "      <td>68</td>\n",
       "    </tr>\n",
       "    <tr>\n",
       "      <th>1</th>\n",
       "      <td>cama_mesa_banho</td>\n",
       "      <td>34</td>\n",
       "    </tr>\n",
       "    <tr>\n",
       "      <th>2</th>\n",
       "      <td>esporte_lazer</td>\n",
       "      <td>112</td>\n",
       "    </tr>\n",
       "  </tbody>\n",
       "</table>\n",
       "</div>"
      ],
      "text/plain": [
       "  product_category_name  quant_products_cadastrado\n",
       "0            brinquedos                         68\n",
       "1       cama_mesa_banho                         34\n",
       "2         esporte_lazer                        112"
      ]
     },
     "execution_count": 5,
     "metadata": {},
     "output_type": "execute_result"
    }
   ],
   "source": [
    "query = \"\"\"\n",
    "        SELECT\n",
    "        p.product_category_name, \n",
    "        COUNT(p.product_id) AS quant_products_cadastrado \n",
    "    FROM\n",
    "        products p \n",
    "    WHERE\n",
    "            (p.product_category_name IN ('perfumaria', 'brinquedos', 'esporte_lazer', 'cama_mesa_banho')) \n",
    "        AND (p.product_photos_qty BETWEEN 5 AND 10)                                                       \n",
    "        AND (p.product_weight_g NOT BETWEEN 1 AND 5)                                                      \n",
    "        AND (p.product_height_cm > 10)\n",
    "        AND (p.product_width_cm > 20)                                                                     \n",
    "    GROUP BY \n",
    "        p.product_category_name \n",
    "    HAVING \n",
    "        quant_products_cadastrado > 10\n",
    "        \"\"\"\n",
    "\n",
    "pd.read_sql(query, cursor)"
   ]
  },
  {
   "cell_type": "markdown",
   "id": "9a474ba2",
   "metadata": {},
   "source": [
    "**4.** Qual a quantidade de cidades únicas dos vendedores no estado de São Paulo ou Rio de Janeiro com a latitude maior que -24.54 e longitude menor que -45.63?\n"
   ]
  },
  {
   "cell_type": "code",
   "execution_count": 6,
   "id": "aa7554e9",
   "metadata": {
    "ExecuteTime": {
     "end_time": "2022-11-10T22:06:45.518083Z",
     "start_time": "2022-11-10T22:06:45.113167Z"
    },
    "hide_input": false
   },
   "outputs": [
    {
     "data": {
      "text/html": [
       "<div>\n",
       "<style scoped>\n",
       "    .dataframe tbody tr th:only-of-type {\n",
       "        vertical-align: middle;\n",
       "    }\n",
       "\n",
       "    .dataframe tbody tr th {\n",
       "        vertical-align: top;\n",
       "    }\n",
       "\n",
       "    .dataframe thead th {\n",
       "        text-align: right;\n",
       "    }\n",
       "</style>\n",
       "<table border=\"1\" class=\"dataframe\">\n",
       "  <thead>\n",
       "    <tr style=\"text-align: right;\">\n",
       "      <th></th>\n",
       "      <th>geolocation_state</th>\n",
       "      <th>quant_unique_cities</th>\n",
       "    </tr>\n",
       "  </thead>\n",
       "  <tbody>\n",
       "    <tr>\n",
       "      <th>0</th>\n",
       "      <td>RJ</td>\n",
       "      <td>9</td>\n",
       "    </tr>\n",
       "    <tr>\n",
       "      <th>1</th>\n",
       "      <td>SP</td>\n",
       "      <td>996</td>\n",
       "    </tr>\n",
       "  </tbody>\n",
       "</table>\n",
       "</div>"
      ],
      "text/plain": [
       "  geolocation_state  quant_unique_cities\n",
       "0                RJ                    9\n",
       "1                SP                  996"
      ]
     },
     "execution_count": 6,
     "metadata": {},
     "output_type": "execute_result"
    }
   ],
   "source": [
    "query = \"\"\"\n",
    "    SELECT\n",
    "        g.geolocation_state, \n",
    "        COUNT(DISTINCT g.geolocation_city) AS quant_unique_cities \n",
    "    FROM \n",
    "        geolocation g \n",
    "    WHERE\n",
    "        g.geolocation_state IN ('SP', 'RJ')\n",
    "        AND g.geolocation_lat > -24.54\n",
    "        AND g.geolocation_lng < -45.63\n",
    "    GROUP BY g.geolocation_state \n",
    "        \"\"\"\n",
    "\n",
    "pd.read_sql(query, cursor)"
   ]
  },
  {
   "cell_type": "markdown",
   "id": "876b894f",
   "metadata": {
    "ExecuteTime": {
     "end_time": "2022-11-09T15:05:57.708865Z",
     "start_time": "2022-11-09T15:05:57.696899Z"
    }
   },
   "source": [
    "**5.** Qual o número de clientes únicos, agrupados por estado e por cidades que comecem com a letra “m”, tem a letra “o” e terminem com a letra “a”? Mostrar os resultados somente para o número de clientes únicos maior que 10.\n"
   ]
  },
  {
   "cell_type": "code",
   "execution_count": 7,
   "id": "aaa6a006",
   "metadata": {
    "ExecuteTime": {
     "end_time": "2022-11-10T22:06:45.549998Z",
     "start_time": "2022-11-10T22:06:45.523070Z"
    },
    "hide_input": false
   },
   "outputs": [
    {
     "data": {
      "text/html": [
       "<div>\n",
       "<style scoped>\n",
       "    .dataframe tbody tr th:only-of-type {\n",
       "        vertical-align: middle;\n",
       "    }\n",
       "\n",
       "    .dataframe tbody tr th {\n",
       "        vertical-align: top;\n",
       "    }\n",
       "\n",
       "    .dataframe thead th {\n",
       "        text-align: right;\n",
       "    }\n",
       "</style>\n",
       "<table border=\"1\" class=\"dataframe\">\n",
       "  <thead>\n",
       "    <tr style=\"text-align: right;\">\n",
       "      <th></th>\n",
       "      <th>product_category_name</th>\n",
       "      <th>products_cadastrados</th>\n",
       "    </tr>\n",
       "  </thead>\n",
       "  <tbody>\n",
       "    <tr>\n",
       "      <th>0</th>\n",
       "      <td>automotivo</td>\n",
       "      <td>172</td>\n",
       "    </tr>\n",
       "  </tbody>\n",
       "</table>\n",
       "</div>"
      ],
      "text/plain": [
       "  product_category_name  products_cadastrados\n",
       "0            automotivo                   172"
      ]
     },
     "execution_count": 7,
     "metadata": {},
     "output_type": "execute_result"
    }
   ],
   "source": [
    "query = \"\"\"\n",
    "    SELECT\n",
    "        p.product_category_name, \n",
    "        COUNT(DISTINCT p.product_id) AS products_cadastrados \n",
    "    FROM \n",
    "        products p \n",
    "    WHERE\n",
    "            (p.product_category_name LIKE 'a%o')\n",
    "        AND (p.product_photos_qty > 5)\n",
    "    GROUP BY\n",
    "        p.product_category_name \n",
    "    HAVING \n",
    "        COUNT(DISTINCT p.product_id) > 10\n",
    "        \"\"\"\n",
    "\n",
    "pd.read_sql(query, cursor)"
   ]
  },
  {
   "cell_type": "markdown",
   "id": "a17ab472",
   "metadata": {
    "hide_input": true
   },
   "source": [
    "**6.** Quantos produtos estão cadastrados em qualquer categorias que comece com a letra “a” e termine com a letra “o” e que possuem mais de 5 fotos? Mostrar as linhas com mais de 10 produtos\n",
    "\n"
   ]
  },
  {
   "cell_type": "code",
   "execution_count": 8,
   "id": "b1ecf43b",
   "metadata": {
    "ExecuteTime": {
     "end_time": "2022-11-10T22:06:45.796338Z",
     "start_time": "2022-11-10T22:06:45.746472Z"
    },
    "hide_input": false
   },
   "outputs": [
    {
     "data": {
      "text/html": [
       "<div>\n",
       "<style scoped>\n",
       "    .dataframe tbody tr th:only-of-type {\n",
       "        vertical-align: middle;\n",
       "    }\n",
       "\n",
       "    .dataframe tbody tr th {\n",
       "        vertical-align: top;\n",
       "    }\n",
       "\n",
       "    .dataframe thead th {\n",
       "        text-align: right;\n",
       "    }\n",
       "</style>\n",
       "<table border=\"1\" class=\"dataframe\">\n",
       "  <thead>\n",
       "    <tr style=\"text-align: right;\">\n",
       "      <th></th>\n",
       "      <th>customer_state</th>\n",
       "      <th>customer_city</th>\n",
       "      <th>quant_customers</th>\n",
       "    </tr>\n",
       "  </thead>\n",
       "  <tbody>\n",
       "    <tr>\n",
       "      <th>0</th>\n",
       "      <td>MG</td>\n",
       "      <td>matias barbosa</td>\n",
       "      <td>13</td>\n",
       "    </tr>\n",
       "    <tr>\n",
       "      <th>1</th>\n",
       "      <td>SP</td>\n",
       "      <td>mairipora</td>\n",
       "      <td>75</td>\n",
       "    </tr>\n",
       "    <tr>\n",
       "      <th>2</th>\n",
       "      <td>SP</td>\n",
       "      <td>mococa</td>\n",
       "      <td>34</td>\n",
       "    </tr>\n",
       "    <tr>\n",
       "      <th>3</th>\n",
       "      <td>SP</td>\n",
       "      <td>mongagua</td>\n",
       "      <td>42</td>\n",
       "    </tr>\n",
       "    <tr>\n",
       "      <th>4</th>\n",
       "      <td>SP</td>\n",
       "      <td>monte azul paulista</td>\n",
       "      <td>19</td>\n",
       "    </tr>\n",
       "  </tbody>\n",
       "</table>\n",
       "</div>"
      ],
      "text/plain": [
       "  customer_state        customer_city  quant_customers\n",
       "0             MG       matias barbosa               13\n",
       "1             SP            mairipora               75\n",
       "2             SP               mococa               34\n",
       "3             SP             mongagua               42\n",
       "4             SP  monte azul paulista               19"
      ]
     },
     "execution_count": 8,
     "metadata": {},
     "output_type": "execute_result"
    }
   ],
   "source": [
    "query = \"\"\"\n",
    "        SELECT\n",
    "        c.customer_state, c.customer_city, \n",
    "        COUNT(DISTINCT c.customer_id) AS quant_customers \n",
    "    FROM \n",
    "        customer c \n",
    "    WHERE\n",
    "        c.customer_city LIKE 'm%o%a'\n",
    "    GROUP BY \n",
    "        c.customer_state, c.customer_city \n",
    "    HAVING \n",
    "        quant_customers > 10\n",
    "        \"\"\"\n",
    "\n",
    "pd.read_sql(query, cursor)"
   ]
  },
  {
   "cell_type": "code",
   "execution_count": null,
   "id": "c706edb3",
   "metadata": {},
   "outputs": [],
   "source": []
  },
  {
   "cell_type": "code",
   "execution_count": null,
   "id": "b0953b6b",
   "metadata": {},
   "outputs": [],
   "source": []
  }
 ],
 "metadata": {
  "kernelspec": {
   "display_name": "Python 3 (ipykernel)",
   "language": "python",
   "name": "python3"
  },
  "language_info": {
   "codemirror_mode": {
    "name": "ipython",
    "version": 3
   },
   "file_extension": ".py",
   "mimetype": "text/x-python",
   "name": "python",
   "nbconvert_exporter": "python",
   "pygments_lexer": "ipython3",
   "version": "3.8.0"
  }
 },
 "nbformat": 4,
 "nbformat_minor": 5
}
